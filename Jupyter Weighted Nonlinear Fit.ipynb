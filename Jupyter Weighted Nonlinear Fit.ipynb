{
 "cells": [
  {
   "cell_type": "markdown",
   "id": "endangered-willow",
   "metadata": {},
   "source": [
    "# Weighted Nonlinear Fit\n",
    "*March 18, 2021*\n",
    "\n",
    "In this Jupyter notebook we will fit a nonlinear function to a set of experimental data.  The fit will be weighted by the measurement uncertainties.\n",
    "\n",
    "In this example, we take data from a series $LRC$ circuit.  For the $y$-axis we will have the ratio of the magntidue of the voltage across the resistance to that supplied by the function generator driving the circuit ($V_\\mathrm{ratio}=V_R/V_0$).  On the x-axis we will have angular frequency $\\omega$.\n",
    "\n",
    "The process will be very similar to the process used to fit a linear function to a dataset.  The main difference will be in the definition of the model function that we are fitting to.\n",
    "\n",
    "- First, import the *NumPy*, *Matplotlib*, & *SciPy* modules."
   ]
  },
  {
   "cell_type": "code",
   "execution_count": 16,
   "id": "incident-korean",
   "metadata": {},
   "outputs": [],
   "source": [
    "import numpy as np\n",
    "import matplotlib.pyplot as plt\n",
    "from scipy.optimize import curve_fit"
   ]
  },
  {
   "cell_type": "markdown",
   "id": "entitled-dominant",
   "metadata": {},
   "source": [
    "- Next, enter the data (frequency and $V_\\mathrm{ratio}\\pm\\Delta v_\\mathrm{ratio}$) as arrays."
   ]
  },
  {
   "cell_type": "code",
   "execution_count": 17,
   "id": "chronic-pricing",
   "metadata": {},
   "outputs": [],
   "source": [
    "Vratio= np.array([0.198e-1, 0.67e-1, .117, .185, .331, .450, .573, .689, .718,\\\n",
    "                  .714, .704, .670, .631, .549, .412, .318, .249, .186, .138])\n",
    "errVratio= np.array([0.1e-2, 0.2e-2, 0.3e-2, 0.3e-2, 0.5e-2, 0.6e-2, 0.7e-2,\\\n",
    "                     0.8e-2, 0.8e-2, 0.8e-2, 0.8e-2, 0.8e-2, 0.8e-2, 0.7e-2,\\\n",
    "                     0.6e-2, 0.4e-2, 0.5e-2, 0.3e-2, 0.3e-2])\n",
    "f = np.array([3000, 10000, 15000, 20000, 25000, 28000, 30000, 32000, 33000,\\\n",
    "              34000, 35000, 36000, 37000, 39000, 43000, 47000, 52000, 60000,\\\n",
    "              70000])"
   ]
  },
  {
   "cell_type": "markdown",
   "id": "veterinary-participation",
   "metadata": {},
   "source": [
    "- Calculate the angular frequency $\\omega$."
   ]
  },
  {
   "cell_type": "code",
   "execution_count": 18,
   "id": "talented-trailer",
   "metadata": {},
   "outputs": [],
   "source": [
    "omega = (2*np.pi*f)"
   ]
  },
  {
   "cell_type": "markdown",
   "id": "imposed-basketball",
   "metadata": {},
   "source": [
    "- Plot the data using *errorbar(x, y, e)*."
   ]
  },
  {
   "cell_type": "code",
   "execution_count": 19,
   "id": "municipal-chinese",
   "metadata": {},
   "outputs": [
    {
     "data": {
      "image/png": "[encoded data removed]",
      "text/plain": [
       "<Figure size 432x288 with 1 Axes>"
      ]
     },
     "metadata": {
      "needs_background": "light"
     },
     "output_type": "display_data"
    }
   ],
   "source": [
    "plt.errorbar(omega, Vratio, errVratio, fmt = 'ko', markersize = 5,\\\n",
    "                 linewidth = 1.8,\\\n",
    "                 markeredgecolor = 'b',\\\n",
    "                 markerfacecolor = (.49, 1, .63),\\\n",
    "                 capsize = 5)\n",
    "plt.xlabel('Angular Frequency (rad/s)')\n",
    "plt.ylabel('Voltage Ratio');"
   ]
  },
  {
   "cell_type": "markdown",
   "id": "written-twenty",
   "metadata": {},
   "source": [
    "To do the actual fit, we will use the *curve_fit()* function from the *SciPy* module.  This way of fitting is very nice because we use it for all types of fit models (linear, polynomial, linear-in-parameter fits, and nonlinear fits).  It is capable of doing both unweighted and weighted fits and it will return uncertainties in the fit parameters via the covariance matrix.\n",
    "\n",
    "The first step is to define a function for the model that we will fit our data to.  In this case, the model is a Lorentzian:<br>\n",
    "\n",
    "$V_\\mathrm{ratio}=\\frac{A}{\\sqrt{1+\\left(\\dfrac{\\omega}{\\gamma}\\right)^2\\left[1-\\left(\\dfrac{\\omega_0}{\\omega}\\right)^2\\right]^2}}$<br>\n",
    "\n",
    " > $\\omega_0$ is the resonance frequency<br>\n",
    " $A$ is the amplitude (height of the resonance peak)<br>\n",
    " $\\gamma$ is the width of the resonance<br>\n",
    " $\\omega$ is the independent variable along the horizontal axis (angular frequency in this case)\n",
    " \n",
    "- Here's how the function is defined.  For $\\gamma$ we used \"width\" and for the independent variable, we used \"x\"."
   ]
  },
  {
   "cell_type": "code",
   "execution_count": 20,
   "id": "swedish-latter",
   "metadata": {},
   "outputs": [],
   "source": [
    "def LRCFunc(x, A, width, w0):\n",
    "    y = A/np.sqrt(1+(x/width)**2*(1-(w0/x)**2)**2)\n",
    "    return y"
   ]
  },
  {
   "cell_type": "markdown",
   "id": "immune-theta",
   "metadata": {},
   "source": [
    "Here is the actual command to execute the fit.  At a minimum, *curve_fit()* requires as inputs the function that defines the model, the *x*-data, and the *y*-data.  The statement below tells *curve_fit()* to return a list of the best-fit parameters and the covariance matrix which will be used to determine the error in the fit parameters.\n",
    "\n",
    "To give the fit a chance at being successful, we have to provide reasonable initial guesses for the fit parameters.  We use the option \"p0\" for the list of starting parameters.  The order must be the same as the order of the parameters defined in the function \"LRCFunc()\"."
   ]
  },
  {
   "cell_type": "code",
   "execution_count": 21,
   "id": "defined-debate",
   "metadata": {},
   "outputs": [],
   "source": [
    "start = (0.7, 0.5e5, 2e5)\n",
    "a_fit, cov = curve_fit(LRCFunc, omega, Vratio, p0 = start)"
   ]
  },
  {
   "cell_type": "markdown",
   "id": "detected-seating",
   "metadata": {},
   "source": [
    "- Here is the output of the *curve_fit()* function."
   ]
  },
  {
   "cell_type": "code",
   "execution_count": 22,
   "id": "straight-cowboy",
   "metadata": {},
   "outputs": [
    {
     "name": "stdout",
     "output_type": "stream",
     "text": [
      "The best-fit parameters are:\n",
      " A = 0.7217437152596441 \n",
      " width = 68024.56300087317 1/s\n",
      " w0 = 213256.0968196423 1/s\n"
     ]
    }
   ],
   "source": [
    "print('The best-fit parameters are:\\n A =', a_fit[0], '\\n',\\\n",
    "      'width =', a_fit[1], '1/s\\n',\\\n",
    "      'w0 =', a_fit[2], '1/s')"
   ]
  },
  {
   "cell_type": "markdown",
   "id": "internal-construction",
   "metadata": {},
   "source": [
    "The uncertainties of the best-fit parameters are determined from the square roots of the diagonal elements of the covariance matrix.  \n",
    "\n",
    "We can select the diagonal elements using:\n",
    "> np.diag()[0] for the (0,0) element<br>\n",
    "np.diag()[1] for the (1,1) element<br>\n",
    "np.diag()[2] for the (2,2) element\n",
    "\n",
    "Note the use of the unicode character \\u0394 to print $\\Delta$."
   ]
  },
  {
   "cell_type": "code",
   "execution_count": 23,
   "id": "another-offset",
   "metadata": {},
   "outputs": [
    {
     "name": "stdout",
     "output_type": "stream",
     "text": [
      "The errors in the parameters are:\n",
      " ΔA = 0.0037048186479549886 \n",
      " Δwidth = 952.8034010325724 1/s\n",
      " Δw0 = 377.8379936633329 1/s\n"
     ]
    }
   ],
   "source": [
    "print('The errors in the parameters are:\\n \\u0394A =', np.sqrt(np.diag(cov))[0],\\\n",
    "      '\\n', '\\u0394width =', np.sqrt(np.diag(cov))[1], '1/s'\\\n",
    "      '\\n', '\\u0394w0 =', np.sqrt(np.diag(cov))[2], '1/s')"
   ]
  },
  {
   "cell_type": "markdown",
   "id": "original-delicious",
   "metadata": {},
   "source": [
    "We can now report:\n",
    "\n",
    ">$A = 0.722\\pm 0.004$<br>\n",
    "$\\gamma=68000\\pm 1000~\\mathrm{s}^{-1}$<br>\n",
    "$\\omega_0=213300\\pm 400~\\mathrm{s}^{-1}$\n",
    "\n",
    "- Next, use the function that we defined to generate the best-fit curve and plot it on top of the data."
   ]
  },
  {
   "cell_type": "code",
   "execution_count": 24,
   "id": "adjacent-private",
   "metadata": {},
   "outputs": [
    {
     "data": {
      "image/png": "[encoded data removed]",
      "text/plain": [
       "<Figure size 432x288 with 1 Axes>"
      ]
     },
     "metadata": {
      "needs_background": "light"
     },
     "output_type": "display_data"
    }
   ],
   "source": [
    "# First, plot the data again.\n",
    "plt.errorbar(omega, Vratio, errVratio, fmt = 'ko', markersize = 5,\\\n",
    "                 linewidth = 1.8,\\\n",
    "                 markeredgecolor = 'b',\\\n",
    "                 markerfacecolor = (.49, 1, .63),\\\n",
    "                 capsize = 5)\n",
    "plt.xlabel('Angular Frequency (rad/s)')\n",
    "plt.ylabel('Voltage Ratio');\n",
    "\n",
    "# Here are some anagular frequency points that will passed to our fit model.\n",
    "xx = np.arange(1, 8e5, 100)\n",
    "\n",
    "# Here is the plot of the best-fit function.\n",
    "plt.plot(xx, LRCFunc(xx, a_fit[0], a_fit[1], a_fit[2]), 'k-')\n",
    "plt.axis((0, 4.6e5, 0, 0.75));"
   ]
  },
  {
   "cell_type": "markdown",
   "id": "twelve-transaction",
   "metadata": {},
   "source": [
    "All of this has produced an \"unweighted\" fit to the data.  To include weights, all we need to do is include another option in *curve_fit()*. Everything else is exactly the same!  \n",
    "\n",
    "The new option is \"sigma\" and it is simply a list of the errors in the y-values ($\\Delta V_\\mathrm{ratio}$ in the case of this example).  Note that many fitting routines require you to provide the actual weights as $1/\\sigma^2$.  That is not the case here.  You just have to provide the absolute $y$-uncertainties. We will also specify that the errors are absolute errors with the option \"absolute_sigma=True\".\n",
    "\n",
    "- Here's the command to execute the weighted fit."
   ]
  },
  {
   "cell_type": "code",
   "execution_count": 25,
   "id": "thorough-johns",
   "metadata": {},
   "outputs": [],
   "source": [
    "a_fit, cov = curve_fit(LRCFunc, omega, Vratio, sigma = errVratio,\\\n",
    "                       p0 = start, absolute_sigma = True)"
   ]
  },
  {
   "cell_type": "markdown",
   "id": "sonic-average",
   "metadata": {},
   "source": [
    "- Extract the fit parameters and their uncertainties."
   ]
  },
  {
   "cell_type": "code",
   "execution_count": 26,
   "id": "naval-allergy",
   "metadata": {},
   "outputs": [
    {
     "name": "stdout",
     "output_type": "stream",
     "text": [
      "The best-fit parameters are:      \n",
      " A ± ΔA = 0.7243152456809248 ± 0.003647934113877031 \n",
      " width ± Δwidth = 66816.88081227308 ± 623.0614968262379 1/s\n",
      " w0 ± Δw0 = 213875.00919865974 ± 310.60920671532733 1/s\n"
     ]
    }
   ],
   "source": [
    "print('The best-fit parameters are:\\\n",
    "      \\n A \\u00B1 \\u0394A =', a_fit[0], '\\u00B1', np.sqrt(np.diag(cov))[0],\\\n",
    "     '\\n width \\u00B1 \\u0394width =', a_fit[1], '\\u00B1', np.sqrt(np.diag(cov))[1], '1/s'\\\n",
    "     '\\n w0 \\u00B1 \\u0394w0 =', a_fit[2], '\\u00B1', np.sqrt(np.diag(cov))[2], '1/s')"
   ]
  },
  {
   "cell_type": "markdown",
   "id": "chronic-debut",
   "metadata": {},
   "source": [
    "We can now report:\n",
    "\n",
    ">$A = 0.724\\pm 0.004$<br>\n",
    "$\\gamma=66800\\pm 600~\\mathrm{s}^{-1}$<br>\n",
    "$\\omega_0=213900\\pm 300~\\mathrm{s}^{-1}$\n",
    "\n",
    "- Plot the data and the best-fit curve."
   ]
  },
  {
   "cell_type": "code",
   "execution_count": 27,
   "id": "christian-parade",
   "metadata": {},
   "outputs": [
    {
     "data": {
      "image/png": "[encoded data removed]",
      "text/plain": [
       "<Figure size 432x288 with 1 Axes>"
      ]
     },
     "metadata": {
      "needs_background": "light"
     },
     "output_type": "display_data"
    }
   ],
   "source": [
    "# Here's the data.\n",
    "plt.errorbar(omega, Vratio, errVratio, fmt = 'ko', markersize = 5,\\\n",
    "                 linewidth = 1.8,\\\n",
    "                 markeredgecolor = 'b',\\\n",
    "                 markerfacecolor = 'r',\\\n",
    "                 capsize = 5)\n",
    "plt.xlabel('Angular Frequency (rad/s)')\n",
    "plt.ylabel('Voltage Ratio')\n",
    "\n",
    "# Plot the best-fit line.\n",
    "xx = np.arange(1, 8e5, 100)\n",
    "plt.plot(xx, LRCFunc(xx, a_fit[0], a_fit[1], a_fit[2]), 'k-')\n",
    "plt.axis((0, 4.6e5, 0, 0.75));"
   ]
  }
 ],
 "metadata": {
  "kernelspec": {
   "display_name": "Python 3",
   "language": "python",
   "name": "python3"
  },
  "language_info": {
   "codemirror_mode": {
    "name": "ipython",
    "version": 3
   },
   "file_extension": ".py",
   "mimetype": "text/x-python",
   "name": "python",
   "nbconvert_exporter": "python",
   "pygments_lexer": "ipython3",
   "version": "3.8.8"
  }
 },
 "nbformat": 4,
 "nbformat_minor": 5
}
